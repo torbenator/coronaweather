{
 "cells": [
  {
   "cell_type": "code",
   "execution_count": 1,
   "metadata": {},
   "outputs": [],
   "source": [
    "import pandas as pd\n",
    "import matplotlib.pyplot as plt\n"
   ]
  },
  {
   "cell_type": "code",
   "execution_count": 2,
   "metadata": {},
   "outputs": [],
   "source": [
    "dataDir='/Users/Torben/Documents/weather corona project/covid19-global-forecasting-week-2/';\n",
    "\n",
    "trainPath=dataDir+'train.csv';\n",
    "trainDf=pd.read_csv(trainPath)\n",
    "\n",
    "testPath=dataDir+'test.csv';\n",
    "testDf=pd.read_csv(testPath)"
   ]
  },
  {
   "cell_type": "code",
   "execution_count": 3,
   "metadata": {},
   "outputs": [],
   "source": [
    "df=pd.concat([trainDf,testDf])\n",
    "\n",
    "# sort df by date\n",
    "df[\"Date\"] = pd.to_datetime(df[\"Date\"])\n",
    "\n",
    "df = df.sort_values(by=\"Date\")"
   ]
  },
  {
   "cell_type": "code",
   "execution_count": 5,
   "metadata": {},
   "outputs": [],
   "source": [
    "uniqueProvinces=list(set(df['Province_State']))\n",
    "\n",
    "thisProvince=uniqueProvinces[1]\n",
    "\n",
    "thisProvinceInds=df.index[df['Province_State'] == thisProvince].tolist()\n",
    "\n",
    "thisProvinceDates=df['Date'][thisProvinceInds]\n",
    "thisProvinceConfirmed=df['ConfirmedCases'][thisProvinceInds]\n",
    "thisProvinceFatalities=df['Fatalities'][thisProvinceInds]"
   ]
  },
  {
   "cell_type": "code",
   "execution_count": 12,
   "metadata": {},
   "outputs": [
    {
     "data": {
      "text/plain": [
       "'Jiangxi'"
      ]
     },
     "execution_count": 12,
     "metadata": {},
     "output_type": "execute_result"
    }
   ],
   "source": [
    "thisProvince"
   ]
  },
  {
   "cell_type": "code",
   "execution_count": null,
   "metadata": {},
   "outputs": [],
   "source": []
  },
  {
   "cell_type": "code",
   "execution_count": 13,
   "metadata": {},
   "outputs": [
    {
     "data": {
      "text/plain": [
       "[<matplotlib.lines.Line2D at 0x11a23c7d0>]"
      ]
     },
     "execution_count": 13,
     "metadata": {},
     "output_type": "execute_result"
    },
    {
     "data": {
      "image/png": "[encoded data removed]",
      "text/plain": [
       "<Figure size 432x288 with 1 Axes>"
      ]
     },
     "metadata": {
      "needs_background": "light"
     },
     "output_type": "display_data"
    }
   ],
   "source": [
    "plt.plot_date(thisProvinceDates,range(len(thisProvinceDates)),fmt='o')"
   ]
  },
  {
   "cell_type": "code",
   "execution_count": 11,
   "metadata": {},
   "outputs": [
    {
     "data": {
      "text/plain": [
       "(array([62.,  0.,  0.,  0.,  0.,  0.,  0.,  0.,  0., 50.]),\n",
       " array([0. , 0.1, 0.2, 0.3, 0.4, 0.5, 0.6, 0.7, 0.8, 0.9, 1. ]),\n",
       " <a list of 10 Patch objects>)"
      ]
     },
     "execution_count": 11,
     "metadata": {},
     "output_type": "execute_result"
    },
    {
     "data": {
      "image/png": "[encoded data removed]",
      "text/plain": [
       "<Figure size 432x288 with 1 Axes>"
      ]
     },
     "metadata": {
      "needs_background": "light"
     },
     "output_type": "display_data"
    }
   ],
   "source": [
    "plt.hist(thisProvinceFatalities)"
   ]
  },
  {
   "cell_type": "code",
   "execution_count": null,
   "metadata": {},
   "outputs": [],
   "source": [
    "sortedDateInds=thisProvinceDates.sort_index()"
   ]
  },
  {
   "cell_type": "code",
   "execution_count": null,
   "metadata": {},
   "outputs": [],
   "source": [
    "sortedProvinceDates=thisProvinceDates[list(sortedDateInds)]\n",
    "# thisProvinceConfirmed=df['ConfirmedCases'][thisProvinceInds]\n",
    "# thisProvinceFatalities=df['Fatalities'][thisProvinceInds]\n"
   ]
  },
  {
   "cell_type": "code",
   "execution_count": 7,
   "metadata": {},
   "outputs": [
    {
     "name": "stdout",
     "output_type": "stream",
     "text": [
      "Help on function plot_date in module matplotlib.pyplot:\n",
      "\n",
      "plot_date(x, y, fmt='o', tz=None, xdate=True, ydate=False, *, data=None, **kwargs)\n",
      "    Plot data that contains dates.\n",
      "    \n",
      "    Similar to `.plot`, this plots *y* vs. *x* as lines or markers.\n",
      "    However, the axis labels are formatted as dates depending on *xdate*\n",
      "    and *ydate*.\n",
      "    \n",
      "    Parameters\n",
      "    ----------\n",
      "    x, y : array-like\n",
      "        The coordinates of the data points. If *xdate* or *ydate* is\n",
      "        *True*, the respective values *x* or *y* are interpreted as\n",
      "        :ref:`Matplotlib dates <date-format>`.\n",
      "    \n",
      "    fmt : str, optional\n",
      "        The plot format string. For details, see the corresponding\n",
      "        parameter in `.plot`.\n",
      "    \n",
      "    tz : [ *None* | timezone string | :class:`tzinfo` instance]\n",
      "        The time zone to use in labeling dates. If *None*, defaults to\n",
      "        rcParam ``timezone``.\n",
      "    \n",
      "    xdate : bool, optional, default: True\n",
      "        If *True*, the *x*-axis will be interpreted as Matplotlib dates.\n",
      "    \n",
      "    ydate : bool, optional, default: False\n",
      "        If *True*, the *y*-axis will be interpreted as Matplotlib dates.\n",
      "    \n",
      "    \n",
      "    Returns\n",
      "    -------\n",
      "    lines\n",
      "        A list of `~.Line2D` objects representing the plotted data.\n",
      "    \n",
      "    \n",
      "    Other Parameters\n",
      "    ----------------\n",
      "    **kwargs\n",
      "        Keyword arguments control the :class:`~matplotlib.lines.Line2D`\n",
      "        properties:\n",
      "    \n",
      "      agg_filter: a filter function, which takes a (m, n, 3) float array and a dpi value, and returns a (m, n, 3) array\n",
      "      alpha: float\n",
      "      animated: bool\n",
      "      antialiased or aa: bool\n",
      "      clip_box: `.Bbox`\n",
      "      clip_on: bool\n",
      "      clip_path: [(`~matplotlib.path.Path`, `.Transform`) | `.Patch` | None]\n",
      "      color or c: color\n",
      "      contains: callable\n",
      "      dash_capstyle: {'butt', 'round', 'projecting'}\n",
      "      dash_joinstyle: {'miter', 'round', 'bevel'}\n",
      "      dashes: sequence of floats (on/off ink in points) or (None, None)\n",
      "      drawstyle or ds: {'default', 'steps', 'steps-pre', 'steps-mid', 'steps-post'}, default: 'default'\n",
      "      figure: `.Figure`\n",
      "      fillstyle: {'full', 'left', 'right', 'bottom', 'top', 'none'}\n",
      "      gid: str\n",
      "      in_layout: bool\n",
      "      label: object\n",
      "      linestyle or ls: {'-', '--', '-.', ':', '', (offset, on-off-seq), ...}\n",
      "      linewidth or lw: float\n",
      "      marker: marker style\n",
      "      markeredgecolor or mec: color\n",
      "      markeredgewidth or mew: float\n",
      "      markerfacecolor or mfc: color\n",
      "      markerfacecoloralt or mfcalt: color\n",
      "      markersize or ms: float\n",
      "      markevery: None or int or (int, int) or slice or List[int] or float or (float, float)\n",
      "      path_effects: `.AbstractPathEffect`\n",
      "      picker: float or callable[[Artist, Event], Tuple[bool, dict]]\n",
      "      pickradius: float\n",
      "      rasterized: bool or None\n",
      "      sketch_params: (scale: float, length: float, randomness: float)\n",
      "      snap: bool or None\n",
      "      solid_capstyle: {'butt', 'round', 'projecting'}\n",
      "      solid_joinstyle: {'miter', 'round', 'bevel'}\n",
      "      transform: `matplotlib.transforms.Transform`\n",
      "      url: str\n",
      "      visible: bool\n",
      "      xdata: 1D array\n",
      "      ydata: 1D array\n",
      "      zorder: float\n",
      "    \n",
      "    \n",
      "    See Also\n",
      "    --------\n",
      "    matplotlib.dates : Helper functions on dates.\n",
      "    matplotlib.dates.date2num : Convert dates to num.\n",
      "    matplotlib.dates.num2date : Convert num to dates.\n",
      "    matplotlib.dates.drange : Create an equally spaced sequence of dates.\n",
      "    \n",
      "    \n",
      "    Notes\n",
      "    -----\n",
      "    If you are using custom date tickers and formatters, it may be\n",
      "    necessary to set the formatters/locators after the call to\n",
      "    `.plot_date`. `.plot_date` will set the default tick locator to\n",
      "    `.AutoDateLocator` (if the tick locator is not already set to a\n",
      "    `.DateLocator` instance) and the default tick formatter to\n",
      "    `.AutoDateFormatter` (if the tick formatter is not already set to a\n",
      "    `.DateFormatter` instance).\n",
      "    \n",
      "    .. note::\n",
      "        In addition to the above described arguments, this function can take a\n",
      "        **data** keyword argument. If such a **data** argument is given, the\n",
      "        following arguments are replaced by **data[<arg>]**:\n",
      "    \n",
      "        * All arguments with the following names: 'x', 'y'.\n",
      "    \n",
      "        Objects passed as **data** must support item access (``data[<arg>]``) and\n",
      "        membership test (``<arg> in data``).\n",
      "\n"
     ]
    }
   ],
   "source": [
    "help(plt.plot_date)"
   ]
  },
  {
   "cell_type": "code",
   "execution_count": null,
   "metadata": {},
   "outputs": [],
   "source": [
    "sortedDateInds"
   ]
  },
  {
   "cell_type": "code",
   "execution_count": null,
   "metadata": {},
   "outputs": [],
   "source": []
  }
 ],
 "metadata": {
  "kernelspec": {
   "display_name": "Python 3",
   "language": "python",
   "name": "python3"
  },
  "language_info": {
   "codemirror_mode": {
    "name": "ipython",
    "version": 3
   },
   "file_extension": ".py",
   "mimetype": "text/x-python",
   "name": "python",
   "nbconvert_exporter": "python",
   "pygments_lexer": "ipython3",
   "version": "3.7.6"
  }
 },
 "nbformat": 4,
 "nbformat_minor": 4
}
